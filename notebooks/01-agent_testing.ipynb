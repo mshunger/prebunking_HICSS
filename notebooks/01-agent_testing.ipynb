{
 "cells": [
  {
   "cell_type": "code",
   "execution_count": 8,
   "id": "319191d7-c540-4fcf-b1e0-23298a19b0c6",
   "metadata": {},
   "outputs": [],
   "source": [
    "import pandas as pd"
   ]
  },
  {
   "cell_type": "code",
   "execution_count": 16,
   "id": "140d4f99-bde2-4c1d-ab2d-003dc0121820",
   "metadata": {},
   "outputs": [],
   "source": [
    "class Agent():\n",
    "    \n",
    "    def __init__(self, opinion=0, frequency=1, max_frequency = 5):\n",
    "        self.opinion=opinion\n",
    "        self.frequency=frequency\n",
    "        self.friends=[]\n",
    "        self.status=None\n",
    "        self.max_frequency = max_frequency\n",
    "        \n",
    "        \n",
    "    def post(self):\n",
    "        post_list = []\n",
    "        for i in range(rand.randint(0, self.frequency)):\n",
    "            post_list.append(self.opinion)\n",
    "            \n",
    "        return post_list\n",
    "    \n",
    "    def update_frequency(self, op_dict, self_pref=True):\n",
    "        self_op = False\n",
    "        other_op = False\n",
    "        for op in op_dict.keys():\n",
    "            if op == self.opinion:\n",
    "                self_op = op_dict[op]\n",
    "            else:\n",
    "                other_op = op_dict[op]\n",
    "                \n",
    "        if self_pref:\n",
    "            if self_op > other_op:\n",
    "                if self.frequency > 0:\n",
    "                    self.frequency += rand.randint(0, 1)\n",
    "                    if self.frequency > self.max_frequency:\n",
    "                        self.frequency = self.max_frequency\n",
    "        else:\n",
    "            if self_op < other_op:\n",
    "                if self.frequency > 0:\n",
    "                    self.frequency += rand.randint(0, 1)\n",
    "                    if self.frequency > self.max_frequency:\n",
    "                        self.frequency = self.max_frequency"
   ]
  },
  {
   "cell_type": "code",
   "execution_count": 17,
   "id": "9f069255-0b4d-4b89-ae99-10f955fceaf3",
   "metadata": {},
   "outputs": [],
   "source": [
    "import random as rand"
   ]
  },
  {
   "cell_type": "code",
   "execution_count": 18,
   "id": "7b2dcec7-b2c2-4dde-bdf9-76c0f9cb2eeb",
   "metadata": {},
   "outputs": [
    {
     "data": {
      "text/plain": [
       "2"
      ]
     },
     "execution_count": 18,
     "metadata": {},
     "output_type": "execute_result"
    }
   ],
   "source": [
    "rand.randint(0,5)"
   ]
  },
  {
   "cell_type": "code",
   "execution_count": 19,
   "id": "e85a970d-71f3-4d5d-96b9-1b7f57de6a7d",
   "metadata": {},
   "outputs": [],
   "source": [
    "population = []\n",
    "for i in range(100):\n",
    "    op = rand.randint(0,1)\n",
    "    freq = rand.randint(0,2)\n",
    "    max_freq = rand.randint(5, 10)\n",
    "    population.append(Agent(op, freq, max_freq))"
   ]
  },
  {
   "cell_type": "code",
   "execution_count": 20,
   "id": "903a4bc2-c214-4593-9362-94996e548445",
   "metadata": {},
   "outputs": [],
   "source": [
    "test = [1,2,3,4,5]"
   ]
  },
  {
   "cell_type": "code",
   "execution_count": 21,
   "id": "b98861b6-9c41-40da-a294-6f904d3fffb5",
   "metadata": {},
   "outputs": [
    {
     "data": {
      "text/plain": [
       "4"
      ]
     },
     "execution_count": 21,
     "metadata": {},
     "output_type": "execute_result"
    }
   ],
   "source": [
    "rand.choice(test)"
   ]
  },
  {
   "cell_type": "code",
   "execution_count": 22,
   "id": "730d78b5-3bd0-4bce-9c6e-96c1a5c8a491",
   "metadata": {},
   "outputs": [
    {
     "data": {
      "image/png": "[encoded data removed]",
      "text/plain": [
       "<Figure size 432x288 with 1 Axes>"
      ]
     },
     "metadata": {
      "needs_background": "light"
     },
     "output_type": "display_data"
    }
   ],
   "source": [
    "population = []\n",
    "for i in range(100):\n",
    "    op = rand.randint(0,1)\n",
    "    freq = rand.randint(0,2)\n",
    "    max_freq = rand.randint(2, 5)\n",
    "    population.append(Agent(op, freq, max_freq))\n",
    "    \n",
    "for agent in population:\n",
    "    friend_count = rand.randint(0,5)\n",
    "    \n",
    "    while len(agent.friends) < friend_count:\n",
    "        fa = rand.choice(population)\n",
    "        if fa != agent:\n",
    "            if fa not in agent.friends:\n",
    "                agent.friends.append(fa)\n",
    "\n",
    "row_list = []\n",
    "for tick in range(100):\n",
    "    \n",
    "    \n",
    "    \n",
    "    appd = {}\n",
    "    for agent in population:\n",
    "        if agent.opinion not in appd.keys():\n",
    "            appd[agent.opinion] = []\n",
    "        \n",
    "        appd[agent.opinion].extend(agent.post())\n",
    "        \n",
    "    for key in appd.keys():\n",
    "        appd[key] = len(appd[key])\n",
    "        \n",
    "    if tick == 1 or tick == 5:\n",
    "        appd[0] += 50\n",
    "    elif tick == 2 or tick == 4:\n",
    "        appd[0] += 75\n",
    "    elif tick == 3:\n",
    "        appd[0] += 100\n",
    "    else:\n",
    "        appd[0] += 0\n",
    "    \n",
    "    for agent in population:\n",
    "        agent.update_frequency(appd, self_pref=False)\n",
    "    row_list.append(appd)\n",
    "    \n",
    "df = pd.DataFrame(row_list)\n",
    "\n",
    "import matplotlib.pyplot as plt\n",
    "can, diag = plt.subplots()\n",
    "for col in df.columns:\n",
    "    diag.plot(df[col])\n",
    "plt.show()"
   ]
  },
  {
   "cell_type": "code",
   "execution_count": 23,
   "id": "3281857a-ef74-4d48-9736-0a981c5bc678",
   "metadata": {},
   "outputs": [
    {
     "name": "stdout",
     "output_type": "stream",
     "text": [
      "1 3 \n",
      "\n",
      "0 4\n",
      "0 4\n",
      "1 4\n"
     ]
    }
   ],
   "source": [
    "print(\n",
    "    population[3].opinion,\n",
    "    population[3].frequency,\n",
    "    '\\n'\n",
    ")\n",
    "for friend in population[3].friends:\n",
    "    print(\n",
    "        friend.opinion,\n",
    "        friend.frequency\n",
    "    )"
   ]
  },
  {
   "cell_type": "code",
   "execution_count": 14,
   "id": "2f71fb5d-da7a-4b71-b753-c0951a9fbb99",
   "metadata": {},
   "outputs": [],
   "source": [
    "import pandas as pd"
   ]
  },
  {
   "cell_type": "code",
   "execution_count": null,
   "id": "75ac6c27-ea23-43cd-a6ef-bb3cb4d778f8",
   "metadata": {},
   "outputs": [],
   "source": []
  },
  {
   "cell_type": "code",
   "execution_count": null,
   "id": "1c8e5d67-4ffd-4a87-96be-2afb885d2a9c",
   "metadata": {},
   "outputs": [],
   "source": []
  },
  {
   "cell_type": "code",
   "execution_count": null,
   "id": "614aa9be-a965-4d54-802d-1c243be6c0af",
   "metadata": {},
   "outputs": [],
   "source": []
  }
 ],
 "metadata": {
  "kernelspec": {
   "display_name": "Python 3 (ipykernel)",
   "language": "python",
   "name": "python3"
  },
  "language_info": {
   "codemirror_mode": {
    "name": "ipython",
    "version": 3
   },
   "file_extension": ".py",
   "mimetype": "text/x-python",
   "name": "python",
   "nbconvert_exporter": "python",
   "pygments_lexer": "ipython3",
   "version": "3.9.7"
  }
 },
 "nbformat": 4,
 "nbformat_minor": 5
}
